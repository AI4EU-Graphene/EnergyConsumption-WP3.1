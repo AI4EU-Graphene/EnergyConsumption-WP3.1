{
 "cells": [
  {
   "cell_type": "code",
   "execution_count": 1,
   "id": "0bd269bf-f285-4d97-9cd3-06358eabefc2",
   "metadata": {},
   "outputs": [],
   "source": [
    "import pandas as pd"
   ]
  },
  {
   "cell_type": "code",
   "execution_count": 2,
   "id": "0dfd0abd-9cbb-445d-8228-8f8d764a3a85",
   "metadata": {},
   "outputs": [],
   "source": [
    "df = pd.read_csv(\"train_energy_data.csv\")"
   ]
  },
  {
   "cell_type": "code",
   "execution_count": 7,
   "id": "6769c6fd-3583-48ec-a1ca-a8283109a513",
   "metadata": {},
   "outputs": [
    {
     "data": {
      "text/plain": [
       "0      Residential\n",
       "1       Commercial\n",
       "2       Industrial\n",
       "3      Residential\n",
       "4       Commercial\n",
       "          ...     \n",
       "995    Residential\n",
       "996     Industrial\n",
       "997     Commercial\n",
       "998    Residential\n",
       "999     Commercial\n",
       "Name: Building Type, Length: 1000, dtype: object"
      ]
     },
     "execution_count": 7,
     "metadata": {},
     "output_type": "execute_result"
    }
   ],
   "source": []
  },
  {
   "cell_type": "code",
   "execution_count": null,
   "id": "37abff13-21c3-44cc-a05c-0dc68b7b0788",
   "metadata": {},
   "outputs": [],
   "source": []
  }
 ],
 "metadata": {
  "kernelspec": {
   "display_name": "Python 3 (ipykernel)",
   "language": "python",
   "name": "python3"
  },
  "language_info": {
   "codemirror_mode": {
    "name": "ipython",
    "version": 3
   },
   "file_extension": ".py",
   "mimetype": "text/x-python",
   "name": "python",
   "nbconvert_exporter": "python",
   "pygments_lexer": "ipython3",
   "version": "3.12.6"
  }
 },
 "nbformat": 4,
 "nbformat_minor": 5
}
