{
 "cells": [
  {
   "cell_type": "code",
   "execution_count": 7,
   "id": "8cc2cd0a-8279-4f1b-acb6-e0525dbdd12e",
   "metadata": {},
   "outputs": [],
   "source": [
    "import joblib\n",
    "import pandas as pd"
   ]
  },
  {
   "cell_type": "code",
   "execution_count": 8,
   "id": "37f67274-5e33-4210-ab16-a74f46d060d5",
   "metadata": {},
   "outputs": [],
   "source": [
    "df = pd.read_csv('data/train_energy_data.csv')"
   ]
  },
  {
   "cell_type": "code",
   "execution_count": 11,
   "id": "4d85800c-1120-4e1a-92c3-da7cb3cfea5e",
   "metadata": {},
   "outputs": [
    {
     "data": {
      "text/plain": [
       "array([['Residential', 7063, 76, 10, 29.84, 'Weekday'],\n",
       "       ['Commercial', 44372, 66, 45, 16.72, 'Weekday'],\n",
       "       ['Industrial', 19255, 37, 17, 14.3, 'Weekend'],\n",
       "       ...,\n",
       "       ['Commercial', 39562, 88, 20, 32.18, 'Weekday'],\n",
       "       ['Residential', 8348, 67, 37, 16.48, 'Weekend'],\n",
       "       ['Commercial', 15813, 57, 11, 31.4, 'Weekend']], dtype=object)"
      ]
     },
     "execution_count": 11,
     "metadata": {},
     "output_type": "execute_result"
    }
   ],
   "source": [
    "x = df.iloc[:,:-1]\n",
    "x.values"
   ]
  }
 ],
 "metadata": {
  "kernelspec": {
   "display_name": "Python 3 (ipykernel)",
   "language": "python",
   "name": "python3"
  },
  "language_info": {
   "codemirror_mode": {
    "name": "ipython",
    "version": 3
   },
   "file_extension": ".py",
   "mimetype": "text/x-python",
   "name": "python",
   "nbconvert_exporter": "python",
   "pygments_lexer": "ipython3",
   "version": "3.12.6"
  }
 },
 "nbformat": 4,
 "nbformat_minor": 5
}
